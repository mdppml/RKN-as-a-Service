{
 "cells": [
  {
   "cell_type": "code",
   "execution_count": 1,
   "id": "4473af6e",
   "metadata": {},
   "outputs": [],
   "source": [
    "import numpy as np\n",
    "import pandas as pd\n",
    "from scipy.linalg import sqrtm"
   ]
  },
  {
   "cell_type": "code",
   "execution_count": 2,
   "id": "b04ed3ea",
   "metadata": {},
   "outputs": [],
   "source": [
    "base_fn = \"/Users/aliburak/Projects/CECILIA/rkn_results/gmp/one_hot/\""
   ]
  },
  {
   "cell_type": "code",
   "execution_count": 3,
   "id": "730c80d0",
   "metadata": {},
   "outputs": [],
   "source": [
    "#anchor_points = [2, 4, 8, 16, 32, 64, 128, 256]\n",
    "anchor_points = [128]\n",
    "#kmers = [2, 4, 8, 16, 32, 64, 128]\n",
    "kmers = [10]"
   ]
  },
  {
   "cell_type": "code",
   "execution_count": 8,
   "id": "ba7533ef",
   "metadata": {},
   "outputs": [
    {
     "name": "stdout",
     "output_type": "stream",
     "text": [
      "Alpha: 0.6249999999999999\n",
      "File name:  /Users/aliburak/Projects/CECILIA/rkn_results/gmp/one_hot/1_[128]_[10]_[0.5]_[0.4]_0.1/a.102.1/\n",
      "Flag:  True\n",
      "Output file path:  /Users/aliburak/Projects/CECILIA/rkn_results/gmp/one_hot/1_[128]_[10]_[0.5]_[0.4]_0.1/a.102.1/invsqrt_layer9\n"
     ]
    }
   ],
   "source": [
    "sigma = 0.4\n",
    "for anc in anchor_points:\n",
    "    for k in kmers:\n",
    "        alpha = 1 / (sigma**2 * k)\n",
    "        print(f'Alpha: {alpha}')\n",
    "        fn = base_fn + f'1_[{anc}]_[{k}]_[0.5]_[0.4]_0.1/a.102.1/'\n",
    "        print(\"File name: \", fn)\n",
    "        weights = np.empty((k, anc, 20))\n",
    "        flag = True\n",
    "        for l in range(k):\n",
    "            tmp_fn = fn + f'layer{l}_k{k}_anc{anc}_dim20'\n",
    "            try:\n",
    "                w = np.loadtxt(tmp_fn, delimiter=\",\")\n",
    "                for a in range(anc):\n",
    "                    weights[l][a][:] = w[a,:]\n",
    "            except EnvironmentError:\n",
    "                print(f'File not found: {tmp_fn}')\n",
    "                flag = False\n",
    "                break\n",
    "        print(\"Flag: \", flag)\n",
    "        if flag:\n",
    "            km = np.ones((weights[0].shape[0], weights[0].shape[0]))\n",
    "            for l in range(k):\n",
    "                #print(np.exp(alpha * (weights[l] @ weights[l].T - 1)), \"\\n\")\n",
    "                km *= np.exp(alpha * (weights[l] @ weights[l].T - 1))\n",
    "            #print(sqrtm(km), \"\\n\")\n",
    "            print(\"Output file path: \", (fn + f'invsqrt_layer{k-1}'))\n",
    "            np.savetxt(fn + f'invsqrt_layer{k-1}', sqrtm(km), delimiter=\",\", fmt=\"%f\")"
   ]
  }
 ],
 "metadata": {
  "kernelspec": {
   "display_name": "Python 3 (ipykernel)",
   "language": "python",
   "name": "python3"
  },
  "language_info": {
   "codemirror_mode": {
    "name": "ipython",
    "version": 3
   },
   "file_extension": ".py",
   "mimetype": "text/x-python",
   "name": "python",
   "nbconvert_exporter": "python",
   "pygments_lexer": "ipython3",
   "version": "3.9.6"
  }
 },
 "nbformat": 4,
 "nbformat_minor": 5
}
